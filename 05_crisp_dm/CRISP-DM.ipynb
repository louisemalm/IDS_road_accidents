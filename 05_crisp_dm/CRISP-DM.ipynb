{
 "cells": [
  {
   "cell_type": "markdown",
   "metadata": {},
   "source": [
    "## Describing the data"
   ]
  },
  {
   "cell_type": "code",
   "execution_count": 1,
   "metadata": {},
   "outputs": [
    {
     "name": "stderr",
     "output_type": "stream",
     "text": [
      "C:\\Users\\loma5202\\AppData\\Local\\Temp\\ipykernel_19412\\517985554.py:9: DtypeWarning: Columns (0,2,15,16,35) have mixed types. Specify dtype option on import or set low_memory=False.\n",
      "  collisions_data = pd.read_csv(collisions)\n",
      "C:\\Users\\loma5202\\AppData\\Local\\Temp\\ipykernel_19412\\517985554.py:10: DtypeWarning: Columns (0,2,24,27) have mixed types. Specify dtype option on import or set low_memory=False.\n",
      "  vehicles_data = pd.read_csv(vehicles)\n",
      "C:\\Users\\loma5202\\AppData\\Local\\Temp\\ipykernel_19412\\517985554.py:11: DtypeWarning: Columns (0,2,18) have mixed types. Specify dtype option on import or set low_memory=False.\n",
      "  casualties_data = pd.read_csv(casualties)\n"
     ]
    }
   ],
   "source": [
    "import pandas as pd\n",
    "\n",
    "# Load the datasets\n",
    "collisions = 'C:/Users/loma5202/OneDrive - Kruvelab/PhD/courses/introduction_to_data_science/project/UK_road_casualty_collision_1979_2022.csv'\n",
    "vehicles = 'C:/Users/loma5202/OneDrive - Kruvelab/PhD/courses/introduction_to_data_science/project/UK_road_casualty_vehicle_1979_2022.csv'\n",
    "casualties = 'C:/Users/loma5202/OneDrive - Kruvelab/PhD/courses/introduction_to_data_science/project/UK_road_casualty_casualty_1979_2022.csv'\n",
    "\n",
    "# Read the CSV files\n",
    "collisions_data = pd.read_csv(collisions)\n",
    "vehicles_data = pd.read_csv(vehicles)\n",
    "casualties_data = pd.read_csv(casualties)"
   ]
  },
  {
   "cell_type": "markdown",
   "metadata": {},
   "source": [
    "#### Summarise datasets"
   ]
  },
  {
   "cell_type": "code",
   "execution_count": 3,
   "metadata": {},
   "outputs": [
    {
     "name": "stdout",
     "output_type": "stream",
     "text": [
      "Collisions dataframe contains (8809915, 36) rows and columns, and has a size of 2.4 GB.\n",
      "Vehicles dataframe contains (15725817, 28) rows and columns, and has a size of 3.3 GB.\n",
      "Casualties dataframe contains (11713001, 19) rows and columns, and has a size of 1.7 GB.\n"
     ]
    }
   ],
   "source": [
    "# Collisions data\n",
    "collisions_shape = collisions_data.shape\n",
    "collisions_size_gb = (collisions_data.memory_usage().sum()) / (1024 ** 3)\n",
    "print(f\"Collisions dataframe contains {collisions_shape} rows and columns, and has a size of {collisions_size_gb:.1f} GB.\")\n",
    "\n",
    "# Vehicles data\n",
    "vehicles_shape = vehicles_data.shape\n",
    "vehicles_size_gb = (vehicles_data.memory_usage().sum()) / (1024 ** 3)\n",
    "print(f\"Vehicles dataframe contains {vehicles_shape} rows and columns, and has a size of {vehicles_size_gb:.1f} GB.\")\n",
    "\n",
    "# Casualties data\n",
    "casualties_shape = casualties_data.shape\n",
    "casualties_size_gb = (casualties_data.memory_usage().sum()) / (1024 ** 3)\n",
    "print(f\"Casualties dataframe contains {casualties_shape} rows and columns, and has a size of {casualties_size_gb:.1f} GB.\")"
   ]
  },
  {
   "cell_type": "markdown",
   "metadata": {},
   "source": [
    "#### Type of variables"
   ]
  },
  {
   "cell_type": "code",
   "execution_count": 5,
   "metadata": {},
   "outputs": [
    {
     "name": "stdout",
     "output_type": "stream",
     "text": [
      "Collisions table\n",
      "<class 'pandas.core.frame.DataFrame'>\n",
      "RangeIndex: 8809915 entries, 0 to 8809914\n",
      "Data columns (total 36 columns):\n",
      " #   Column                                       Dtype  \n",
      "---  ------                                       -----  \n",
      " 0   accident_index                               object \n",
      " 1   accident_year                                int64  \n",
      " 2   accident_reference                           object \n",
      " 3   location_easting_osgr                        float64\n",
      " 4   location_northing_osgr                       float64\n",
      " 5   longitude                                    float64\n",
      " 6   latitude                                     float64\n",
      " 7   police_force                                 int64  \n",
      " 8   accident_severity                            int64  \n",
      " 9   number_of_vehicles                           int64  \n",
      " 10  number_of_casualties                         int64  \n",
      " 11  date                                         object \n",
      " 12  day_of_week                                  int64  \n",
      " 13  time                                         object \n",
      " 14  local_authority_district                     int64  \n",
      " 15  local_authority_ons_district                 object \n",
      " 16  local_authority_highway                      object \n",
      " 17  first_road_class                             int64  \n",
      " 18  first_road_number                            int64  \n",
      " 19  road_type                                    int64  \n",
      " 20  speed_limit                                  float64\n",
      " 21  junction_detail                              int64  \n",
      " 22  junction_control                             int64  \n",
      " 23  second_road_class                            int64  \n",
      " 24  second_road_number                           int64  \n",
      " 25  pedestrian_crossing_human_control            int64  \n",
      " 26  pedestrian_crossing_physical_facilities      int64  \n",
      " 27  light_conditions                             int64  \n",
      " 28  weather_conditions                           int64  \n",
      " 29  road_surface_conditions                      int64  \n",
      " 30  special_conditions_at_site                   int64  \n",
      " 31  carriageway_hazards                          int64  \n",
      " 32  urban_or_rural_area                          int64  \n",
      " 33  did_police_officer_attend_scene_of_accident  int64  \n",
      " 34  trunk_road_flag                              int64  \n",
      " 35  lsoa_of_accident_location                    object \n",
      "dtypes: float64(5), int64(24), object(7)\n",
      "memory usage: 2.4+ GB\n",
      "None\n",
      "Vehicles table\n",
      "<class 'pandas.core.frame.DataFrame'>\n",
      "RangeIndex: 15725817 entries, 0 to 15725816\n",
      "Data columns (total 28 columns):\n",
      " #   Column                            Dtype \n",
      "---  ------                            ----- \n",
      " 0   accident_index                    object\n",
      " 1   accident_year                     int64 \n",
      " 2   accident_reference                object\n",
      " 3   vehicle_reference                 int64 \n",
      " 4   vehicle_type                      int64 \n",
      " 5   towing_and_articulation           int64 \n",
      " 6   vehicle_manoeuvre                 int64 \n",
      " 7   vehicle_direction_from            int64 \n",
      " 8   vehicle_direction_to              int64 \n",
      " 9   vehicle_location_restricted_lane  int64 \n",
      " 10  junction_location                 int64 \n",
      " 11  skidding_and_overturning          int64 \n",
      " 12  hit_object_in_carriageway         int64 \n",
      " 13  vehicle_leaving_carriageway       int64 \n",
      " 14  hit_object_off_carriageway        int64 \n",
      " 15  first_point_of_impact             int64 \n",
      " 16  vehicle_left_hand_drive           int64 \n",
      " 17  journey_purpose_of_driver         int64 \n",
      " 18  sex_of_driver                     int64 \n",
      " 19  age_of_driver                     int64 \n",
      " 20  age_band_of_driver                int64 \n",
      " 21  engine_capacity_cc                int64 \n",
      " 22  propulsion_code                   int64 \n",
      " 23  age_of_vehicle                    int64 \n",
      " 24  generic_make_model                object\n",
      " 25  driver_imd_decile                 int64 \n",
      " 26  driver_home_area_type             int64 \n",
      " 27  lsoa_of_driver                    object\n",
      "dtypes: int64(24), object(4)\n",
      "memory usage: 3.3+ GB\n",
      "None\n",
      "Casualties table\n",
      "<class 'pandas.core.frame.DataFrame'>\n",
      "RangeIndex: 11713001 entries, 0 to 11713000\n",
      "Data columns (total 19 columns):\n",
      " #   Column                              Dtype \n",
      "---  ------                              ----- \n",
      " 0   accident_index                      object\n",
      " 1   accident_year                       int64 \n",
      " 2   accident_reference                  object\n",
      " 3   vehicle_reference                   int64 \n",
      " 4   casualty_reference                  int64 \n",
      " 5   casualty_class                      int64 \n",
      " 6   sex_of_casualty                     int64 \n",
      " 7   age_of_casualty                     int64 \n",
      " 8   age_band_of_casualty                int64 \n",
      " 9   casualty_severity                   int64 \n",
      " 10  pedestrian_location                 int64 \n",
      " 11  pedestrian_movement                 int64 \n",
      " 12  car_passenger                       int64 \n",
      " 13  bus_or_coach_passenger              int64 \n",
      " 14  pedestrian_road_maintenance_worker  int64 \n",
      " 15  casualty_type                       int64 \n",
      " 16  casualty_home_area_type             int64 \n",
      " 17  casualty_imd_decile                 int64 \n",
      " 18  lsoa_of_casualty                    object\n",
      "dtypes: int64(16), object(3)\n",
      "memory usage: 1.7+ GB\n",
      "None\n"
     ]
    }
   ],
   "source": [
    "print(\"Collisions table\")\n",
    "print(collisions_data.info())\n",
    "print(\"Vehicles table\")\n",
    "print(vehicles_data.info())\n",
    "print(\"Casualties table\")\n",
    "print(casualties_data.info())"
   ]
  },
  {
   "cell_type": "markdown",
   "metadata": {},
   "source": [
    "## Exploring the data"
   ]
  },
  {
   "cell_type": "code",
   "execution_count": null,
   "metadata": {},
   "outputs": [],
   "source": [
    "df = collisions_data\n",
    "\n",
    "def print_percentage_distribution(column_name):\n",
    "    print(f\"Percentage distribution for {column_name}:\")\n",
    "    total_values = len(df[column_name])\n",
    "    \n",
    "    # Percentage of unique values\n",
    "    unique_percentage = df[column_name].value_counts(normalize=True) * 100\n",
    "    print(\"Unique Values:\")\n",
    "    print(unique_percentage)\n",
    "    \n",
    "    # Percentage of NaN or -1 values\n",
    "    nan_percentage = (df[column_name].isna().sum() / total_values) * 100\n",
    "    negative_one_percentage = (df[column_name] == -1).sum() / total_values * 100\n",
    "    \n",
    "    print(f\"NaN Percentage: {nan_percentage:.2f}%\")\n",
    "    print(f\"-1 Percentage: {negative_one_percentage:.2f}%\")\n",
    "    \n",
    "    print(\"\\n\")\n",
    "\n",
    "for column in df.columns:\n",
    "    print_percentage_distribution(column)"
   ]
  }
 ],
 "metadata": {
  "kernelspec": {
   "display_name": "base",
   "language": "python",
   "name": "python3"
  },
  "language_info": {
   "codemirror_mode": {
    "name": "ipython",
    "version": 3
   },
   "file_extension": ".py",
   "mimetype": "text/x-python",
   "name": "python",
   "nbconvert_exporter": "python",
   "pygments_lexer": "ipython3",
   "version": "3.11.4"
  }
 },
 "nbformat": 4,
 "nbformat_minor": 2
}
